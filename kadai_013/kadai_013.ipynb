{
  "nbformat": 4,
  "nbformat_minor": 0,
  "metadata": {
    "colab": {
      "provenance": []
    },
    "kernelspec": {
      "name": "python3",
      "display_name": "Python 3"
    },
    "language_info": {
      "name": "python"
    }
  },
  "cells": [
    {
      "cell_type": "code",
      "execution_count": 4,
      "metadata": {
        "colab": {
          "base_uri": "https://localhost:8080/"
        },
        "id": "3GWgkQp9y-oj",
        "outputId": "20ba231d-d941-4210-8440-0717fabaf5e7"
      },
      "outputs": [
        {
          "output_type": "stream",
          "name": "stdout",
          "text": [
            "121.00000000000001円\n"
          ]
        }
      ],
      "source": [
        "# 商品の金額と消費税率を受け取り、税込価格を計算して返す関数を定義する\n",
        "def calculate_total(price, tax):\n",
        "    # 消費税を加えた合計金額を計算\n",
        "    total = price * (1 + tax / 100)\n",
        "\n",
        "    # 合計金額を戻り値として返す\n",
        "    return total\n",
        "\n",
        "# 関数を呼び出し、戻り値を変数に代入して出力する\n",
        "result = calculate_total(110, 10)\n",
        "print(f\"{result}円\")"
      ]
    }
  ]
}